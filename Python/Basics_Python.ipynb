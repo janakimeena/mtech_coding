{
  "nbformat": 4,
  "nbformat_minor": 0,
  "metadata": {
    "colab": {
      "name": "Basics_Python.ipynb",
      "provenance": [],
      "collapsed_sections": []
    },
    "kernelspec": {
      "name": "python3",
      "display_name": "Python 3"
    }
  },
  "cells": [
    {
      "cell_type": "code",
      "metadata": {
        "id": "S3Dfa8frXQ_E",
        "colab_type": "code",
        "colab": {
          "base_uri": "https://localhost:8080/",
          "height": 54
        },
        "outputId": "96ca2752-44e2-401f-8b68-9778be671edc"
      },
      "source": [
        "# Check whether a given number is prime\n",
        "import math\n",
        "num = int(input())\n",
        "#have to check whether there is a factor\n",
        "# start from 2\n",
        "# Option 1 - upto num-1\n",
        "# Option 2 = num//2\n",
        "# Option 3 - sqrt(num)\n",
        "# 121217890121567\n",
        "# num = 23\n",
        "# stop =4\n",
        "stop = int(math.sqrt(num))\n",
        "for fac in range(2,stop+1):\n",
        "  if num%fac == 0:\n",
        "    flag = 1\n",
        "    print('Composite')\n",
        "    break\n",
        "else:\n",
        "  print('Prime')"
      ],
      "execution_count": null,
      "outputs": [
        {
          "output_type": "stream",
          "text": [
            "121217890121567\n",
            "Composite\n"
          ],
          "name": "stdout"
        }
      ]
    },
    {
      "cell_type": "code",
      "metadata": {
        "id": "Tyf42WMFa7Kj",
        "colab_type": "code",
        "colab": {
          "base_uri": "https://localhost:8080/",
          "height": 181
        },
        "outputId": "10faeda1-70db-4ded-8d28-6f8a79ca3006"
      },
      "source": [
        "# mean and median of a set of numbers\n",
        "# integers 2* e^200\n",
        "# 12, 34, 78, 21, 65\n",
        "# list, tuples, sets, dictionaries\n",
        "# [], (), {}, {}\n",
        "nums = []\n",
        "n = int(input('Enter number of elements'))\n",
        "for i in range(0,n):\n",
        "  e = int(input('enter element'))\n",
        "  nums.append(e)\n",
        "'''sum_ele = 0\n",
        "for x in nums:\n",
        "  sum_ele += x'''\n",
        "sum_ele = sum(nums)\n",
        "average = sum_ele/n\n",
        "print('mean is', average)\n",
        "nums.sort()\n",
        "# len(nums) - number of elements in the list\n",
        "# 1 2 3 4 5\n",
        "if n&1:\n",
        "  median = nums[n//2]\n",
        "# 1 2 3 4 5 6\n",
        "else:\n",
        "  mid = n//2\n",
        "  median = (nums[mid-1]+nums[mid]) / 2\n",
        "print('median is',median)\n",
        "# 12, 45, 45, 52, 68, 89"
      ],
      "execution_count": null,
      "outputs": [
        {
          "output_type": "stream",
          "text": [
            "Enter number of elements6\n",
            "enter element89\n",
            "enter element45\n",
            "enter element68\n",
            "enter element12\n",
            "enter element45\n",
            "enter element52\n",
            "mean is 51.833333333333336\n",
            "median is 48.5\n"
          ],
          "name": "stdout"
        }
      ]
    },
    {
      "cell_type": "code",
      "metadata": {
        "id": "tXuM30Lba8Yi",
        "colab_type": "code",
        "colab": {
          "base_uri": "https://localhost:8080/",
          "height": 35
        },
        "outputId": "394f2bd3-2923-4831-f00a-0d9600d9e4a0"
      },
      "source": [
        "6&1"
      ],
      "execution_count": null,
      "outputs": [
        {
          "output_type": "execute_result",
          "data": {
            "text/plain": [
              "0"
            ]
          },
          "metadata": {
            "tags": []
          },
          "execution_count": 28
        }
      ]
    },
    {
      "cell_type": "code",
      "metadata": {
        "id": "oU5Uh_jlgf9o",
        "colab_type": "code",
        "colab": {}
      },
      "source": [
        ""
      ],
      "execution_count": null,
      "outputs": []
    }
  ]
}